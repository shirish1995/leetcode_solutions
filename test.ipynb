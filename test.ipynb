{
 "cells": [
  {
   "cell_type": "code",
   "execution_count": 1,
   "metadata": {},
   "outputs": [
    {
     "name": "stdout",
     "output_type": "stream",
     "text": [
      "The original list is : ['3', '5', '7', '9', '11']\n",
      "this is the new list\n",
      "['3', '7', '9', '11']\n"
     ]
    }
   ],
   "source": [
    "# initializing list\n",
    "test_list = ['3', '5', '7', '9', '11']\n",
    " \n",
    "# printing original list\n",
    "print(\"The original list is : \" + str(test_list))\n",
    "x = len(test_list)\n",
    "test_list.remove('5')\n",
    "#test_list.insert(x-1, '5')\n",
    "print(\"this is the new list\")\n",
    "print (test_list)"
   ]
  },
  {
   "cell_type": "code",
   "execution_count": 2,
   "metadata": {},
   "outputs": [
    {
     "name": "stdout",
     "output_type": "stream",
     "text": [
      "3\n"
     ]
    }
   ],
   "source": [
    "nums = [0,0,1,1,1,2,2,3,3,4]\n",
    "print(nums[-(1+2)])"
   ]
  },
  {
   "cell_type": "code",
   "execution_count": 3,
   "metadata": {},
   "outputs": [
    {
     "name": "stdout",
     "output_type": "stream",
     "text": [
      "this is the length of the nums int array before removing the element\n",
      "10\n",
      "this is the length of the nums int array\n",
      "9\n",
      "this is the length of the nums int array before removing the element\n",
      "9\n",
      "this is the length of the nums int array\n",
      "8\n",
      "this is the length of the nums int array before removing the element\n",
      "8\n",
      "this is the length of the nums int array\n",
      "7\n",
      "this is the length of the nums int array before removing the element\n",
      "7\n",
      "this is the length of the nums int array\n",
      "6\n",
      "this is the length of the nums int array before removing the element\n",
      "6\n",
      "this is the length of the nums int array\n",
      "5\n",
      "[0, 1, 2, 3, 4]\n"
     ]
    }
   ],
   "source": [
    "\n",
    "nums = [0,0,1,1,1,2,2,3,3,4]\n",
    "i = 0\n",
    "#for i in range(len(nums)):\n",
    "while i+1 in range(len(nums)):\n",
    "    if nums[i] == nums[(i+1)]:\n",
    "        # using append() + pop() + index()\n",
    "        # moving element to end if element on the left/previous(from the end of the array) is the same as the element being iterated on \n",
    "        #nums.append(nums.pop(nums.index(len(nums)-1)))\n",
    "        # using remove function to remove an element from that location\n",
    "        print(\"this is the length of the nums int array before removing the element\")\n",
    "        print(len(nums))\n",
    "        nums.remove(nums[i])\n",
    "        print(\"this is the length of the nums int array\")\n",
    "        print(len(nums))\n",
    "        continue\n",
    "    else:\n",
    "        i+=1\n",
    "        continue\n",
    "print(nums)"
   ]
  },
  {
   "cell_type": "code",
   "execution_count": 4,
   "metadata": {},
   "outputs": [
    {
     "name": "stdout",
     "output_type": "stream",
     "text": [
      "Name        John\n",
      "Age           28\n",
      "City    New York\n",
      "Name: 0, dtype: object\n"
     ]
    }
   ],
   "source": [
    "import pandas as pd\n",
    "\n",
    "# Sample DataFrame\n",
    "data = {'Name': ['John', 'Jane', 'Tom'],\n",
    "        'Age': [28, 34, 29],\n",
    "        'City': ['New York', 'Paris', 'London']}\n",
    "df = pd.DataFrame(data)\n",
    "\n",
    "# Access the first row\n",
    "first_row = df.iloc[0]\n",
    "print(first_row)\n",
    "\n",
    "\n"
   ]
  },
  {
   "cell_type": "code",
   "execution_count": 5,
   "metadata": {},
   "outputs": [
    {
     "ename": "ModuleNotFoundError",
     "evalue": "No module named 'PyPDF2'",
     "output_type": "error",
     "traceback": [
      "\u001b[1;31m---------------------------------------------------------------------------\u001b[0m",
      "\u001b[1;31mModuleNotFoundError\u001b[0m                       Traceback (most recent call last)",
      "Cell \u001b[1;32mIn[5], line 5\u001b[0m\n\u001b[0;32m      1\u001b[0m \u001b[38;5;66;03m# this is the mark down of the code used for comparing 2 documents\u001b[39;00m\n\u001b[0;32m      2\u001b[0m \u001b[38;5;66;03m# for plagiarism in a simple easy approach. it does not accopunt \u001b[39;00m\n\u001b[0;32m      3\u001b[0m \u001b[38;5;66;03m# for paraphrasing or for doule spaces\u001b[39;00m\n\u001b[1;32m----> 5\u001b[0m \u001b[38;5;28;01mfrom\u001b[39;00m \u001b[38;5;21;01mPyPDF2\u001b[39;00m \u001b[38;5;28;01mimport\u001b[39;00m PdfReader\n\u001b[0;32m      7\u001b[0m \u001b[38;5;66;03m# Load both PDFs\u001b[39;00m\n\u001b[0;32m      8\u001b[0m resume_path \u001b[38;5;241m=\u001b[39m \u001b[38;5;124m'\u001b[39m\u001b[38;5;124m/mnt/data/Raghunath_Shirish_Mysore_Resume.pdf\u001b[39m\u001b[38;5;124m'\u001b[39m\n",
      "\u001b[1;31mModuleNotFoundError\u001b[0m: No module named 'PyPDF2'"
     ]
    }
   ],
   "source": [
    "# this is the mark down of the code used for comparing 2 documents\n",
    "# for plagiarism in a simple easy approach. it does not accopunt \n",
    "# for paraphrasing or for doule spaces\n",
    "\n",
    "from PyPDF2 import PdfReader\n",
    "\n",
    "# Load both PDFs\n",
    "resume_path = '/mnt/data/Raghunath_Shirish_Mysore_Resume.pdf'\n",
    "custcopy_path = '/mnt/data/CustCopy2.pdf'\n",
    "\n",
    "resume_reader = PdfReader(resume_path)\n",
    "custcopy_reader = PdfReader(custcopy_path)\n",
    "\n",
    "# Extract text from both PDFs\n",
    "resume_text = \"\"\n",
    "custcopy_text = \"\"\n",
    "\n",
    "for page in resume_reader.pages:\n",
    "    resume_text += page.extract_text()\n",
    "\n",
    "for page in custcopy_reader.pages:\n",
    "    custcopy_text += page.extract_text()\n",
    "\n",
    "# Split text into lines for comparison\n",
    "resume_lines = set(resume_text.splitlines())\n",
    "custcopy_lines = set(custcopy_text.splitlines())\n",
    "\n",
    "# Find common lines\n",
    "common_lines = resume_lines.intersection(custcopy_lines)\n",
    "\n",
    "# Output the number of common lines\n",
    "len(common_lines), common_lines\n"
   ]
  },
  {
   "cell_type": "code",
   "execution_count": null,
   "metadata": {},
   "outputs": [],
   "source": [
    "import re\n",
    "\n",
    "# Function to normalize text by removing extra spaces, punctuation, and making it lowercase\n",
    "def normalize_text(text):\n",
    "    text = text.lower()  # Convert to lowercase\n",
    "    text = re.sub(r'\\s+', ' ', text)  # Replace multiple spaces with a single space\n",
    "    text = re.sub(r'[^\\w\\s]', '', text)  # Remove punctuation\n",
    "    return text.strip()\n",
    "\n",
    "# Normalize text from both PDFs\n",
    "normalized_resume_text = normalize_text(resume_text)\n",
    "normalized_custcopy_text = normalize_text(custcopy_text)\n",
    "\n",
    "# Split normalized text into sentences/phrases for comparison\n",
    "resume_phrases = set(normalized_resume_text.split('.'))\n",
    "custcopy_phrases = set(normalized_custcopy_text.split('.'))\n",
    "\n",
    "# Find common phrases\n",
    "common_phrases = resume_phrases.intersection(custcopy_phrases)\n",
    "\n",
    "# Output the number of common phrases and some of the common phrases\n",
    "len(common_phrases), list(common_phrases)[:10]  # Show only the first 10 common phrases\n"
   ]
  },
  {
   "cell_type": "code",
   "execution_count": null,
   "metadata": {},
   "outputs": [],
   "source": [
    "import numpy as np\n",
    "\n",
    "\n",
    "matrix =[[5,1,9,11],[2,4,8,10],[13,3,6,7],[15,14,12,16]]\n",
    "column_nr = 0 #len(matrix) -1\n",
    "row_nr = 0 #len(matrix[1])-1\n",
    "reverse_rn =len(matrix[1])-1\n",
    "reverse_cn = len(matrix[1])-1\n",
    "for row in matrix:\n",
    "    print(row)\n",
    "\n",
    "n = len(matrix)\n",
    "    \n",
    "# Transpose the matrix\n",
    "for i in range(n):\n",
    "    for j in range(i + 1, n):\n",
    "        matrix[i][j], matrix[j][i] = matrix[j][i], matrix[i][j]\n",
    "\n",
    "for row in matrix:\n",
    "    print(row)\n",
    "# Reverse each row\n",
    "for i in range(n):\n",
    "    matrix[i].reverse()\n",
    "for row in matrix:\n",
    "    print(row)\n",
    "\n",
    "\n",
    "for row in matrix:\n",
    "    print(row)\n",
    "\n",
    "n = len(matrix)\n",
    "    \n",
    "# Transpose the matrix\n",
    "for i in range(n):\n",
    "    for j in range(i + 1, n):\n",
    "        matrix[i][j], matrix[j][i] = matrix[j][i], matrix[i][j]\n",
    "\n",
    "for row in matrix:\n",
    "    print(row)\n",
    "\n",
    "# Reverse each row\n",
    "for i in range(n):\n",
    "    matrix[i].reverse()\n",
    "for row in matrix:\n",
    "    print(row)\n",
    "\n",
    "# while row_nr <len(matrix[1])-1:\n",
    "#     while column_nr< len(matrix[1])-1 :\n",
    "#         matrix[row_nr][column_nr]= \n",
    "\n",
    "\n",
    "# a= matrix[3][0]\n",
    "# print(a)\n",
    "# print(column_nr,row_nr)"
   ]
  },
  {
   "cell_type": "markdown",
   "metadata": {},
   "source": [
    "remove invalid parentheses\n"
   ]
  },
  {
   "cell_type": "code",
   "execution_count": null,
   "metadata": {},
   "outputs": [
    {
     "name": "stdout",
     "output_type": "stream",
     "text": [
      "0\n",
      "1\n"
     ]
    }
   ],
   "source": [
    "import numpy as np\n",
    "s =  \"()())()\"\n",
    "s = \"())))((()))))()()()()))((\"\n",
    "s =\" ())(((()))()()()()))\"\n",
    "s= \" ()(((())()(()()))\"\n",
    "left = right =count=  0\n",
    "print(count)\n",
    "for letters in s:\n",
    "    if letters == '(':\n",
    "        count= count +1\n",
    "        left = left +1\n",
    "    elif letters == ')':\n",
    "        count= count-1\n",
    "        if left==0:\n",
    "            right= right +1\n",
    "        else \n",
    "        #if count <0:\n",
    "\n",
    "print(count)\n",
    "\n"
   ]
  },
  {
   "cell_type": "code",
   "execution_count": null,
   "metadata": {},
   "outputs": [],
   "source": []
  },
  {
   "cell_type": "code",
   "execution_count": null,
   "metadata": {},
   "outputs": [],
   "source": [
    "\n",
    " \n",
    "def reading_string(s):\n",
    "    length_ofstring= len(s)\n",
    "    for charecters in range (length_ofstring):\n",
    "        if s[charecters].isdigit():\n",
    "                # Build number for repetition count\n",
    "                current_number = current_number * 10 + int(s[charecters])\n",
    "        elif s[charecters]== \"[\":\n",
    "            reading_string(s[charecters+1:length_ofstring])\n",
    "        \n",
    "        elif charecters==length_ofstring:\n",
    "             print(s)\n",
    "\n",
    "s = \"3[a]2[bc]\"      \n",
    "reading_string(s)        "
   ]
  },
  {
   "cell_type": "code",
   "execution_count": 28,
   "metadata": {},
   "outputs": [
    {
     "name": "stdout",
     "output_type": "stream",
     "text": [
      "xy2[abc]3[cd]ef\n"
     ]
    },
    {
     "data": {
      "text/plain": [
       "'xyabcabccdcdcdef'"
      ]
     },
     "execution_count": 28,
     "metadata": {},
     "output_type": "execute_result"
    }
   ],
   "source": [
    "s=\"3[a2[c]]\"\n",
    "s = \"xy2[abc]3[cd]ef\"\n",
    "print(s)\n",
    "\n",
    "def decode(s: str, i: int) -> tuple[str, int]:\n",
    "        # Initialize result string and number\n",
    "    result = \"\"\n",
    "    num = 0\n",
    "        \n",
    "    while i < len(s):\n",
    "        char = s[i]\n",
    "        \n",
    "        # Case 1: If current char is a digit\n",
    "        if char.isdigit():\n",
    "            num = num * 10 + int(char) # num =3, decode2_num=2\n",
    "        \n",
    "        # Case 2: If we encounter opening bracket\n",
    "        elif char == '[':\n",
    "            # Recursive call to process the content inside brackets\n",
    "            inner_str, next_i = decode(s, i + 1)\n",
    "            # Multiply the inner string by number and reset num\n",
    "            result += num * inner_str #result = 3 (decode2) result2= a +decode2_num*(decode3) \n",
    "            num = 0\n",
    "            i = next_i\n",
    "        \n",
    "        # Case 3: If we encounter closing bracket\n",
    "        elif char == ']':\n",
    "            # Return current result and position\n",
    "            return result, i\n",
    "        \n",
    "        # Case 4: If we encounter a letter\n",
    "        else:\n",
    "            result += char #decode2=a # decode3 = c\n",
    "        \n",
    "        i += 1\n",
    "        \n",
    "    return result, i\n",
    "\n",
    "# Start the decoding process\n",
    "decoded_string, _ = decode(s, 0)\n",
    "decoded_string"
   ]
  },
  {
   "cell_type": "code",
   "execution_count": null,
   "metadata": {},
   "outputs": [],
   "source": [
    "import numpy as np\n",
    "def vowelStrings(self, words: List[str], queries: List[List[int]]) -> List[int]:\n",
    "    \n",
    "    for \n",
    "\n",
    "    for query in queries:\n",
    "        "
   ]
  },
  {
   "cell_type": "markdown",
   "metadata": {},
   "source": []
  },
  {
   "cell_type": "code",
   "execution_count": 1,
   "metadata": {},
   "outputs": [],
   "source": [
    "import numpy as np\n",
    "\n",
    "def canReach(self, s: str, minJump: int, maxJump: int) -> bool:\n",
    "    strarting_idx  = 0 \n",
    "    Jumpped_idx = strarting_idx + minJump\n",
    "    otherfunc = min(strarting_idx + maxJump, s.length-1)\n",
    "    for i in range(s.length):\n",
    "        strarting_idx= i\n",
    "        Jumpped_idx = strarting_idx + minJump\n",
    "        otherfunc = min(strarting_idx + maxJump, s.length-1)\n",
    "        if strarting_idx + minJump<=Jumpped_idx<=otherfunc and s[Jumpped_idx]=='0':\n",
    "            if i == s.length -1 :\n",
    "                return True \n",
    "        else:\n",
    "            return False"
   ]
  },
  {
   "cell_type": "markdown",
   "metadata": {},
   "source": []
  },
  {
   "cell_type": "code",
   "execution_count": 8,
   "metadata": {},
   "outputs": [
    {
     "name": "stdout",
     "output_type": "stream",
     "text": [
      "6\n"
     ]
    },
    {
     "data": {
      "text/plain": [
       "7"
      ]
     },
     "execution_count": 8,
     "metadata": {},
     "output_type": "execute_result"
    }
   ],
   "source": [
    "s = \"011010\"\n",
    "print(len(s))\n",
    "min(10,7)"
   ]
  },
  {
   "cell_type": "code",
   "execution_count": 60,
   "metadata": {},
   "outputs": [
    {
     "name": "stdout",
     "output_type": "stream",
     "text": [
      "0 this is the starting idx\n",
      "2 is min jumppable idx\n",
      "3 is max jumppable idx\n",
      "1 is the value of S at the jumpped idx\n",
      "0 is the value of S at the jumpped idx\n",
      "3 this is the new jumpped idx\n",
      "3 this is the starting idx\n",
      "5 is min jumppable idx\n",
      "5 is max jumppable idx\n",
      "0 is the value of S at the jumpped idx\n",
      "5 this is the new jumpped idx\n",
      "True\n",
      "0 is the value of S at the jumpped idx\n",
      "5 this is the new jumpped idx\n",
      "True\n"
     ]
    }
   ],
   "source": [
    "s= \"011010\"\n",
    "minJump= 2\n",
    "maxJump= 3\n",
    "length_s= len(s)\n",
    "\n",
    "global starting_idx \n",
    "starting_idx=0\n",
    "# new_starting_idx=0\n",
    "while starting_idx< length_s-1:\n",
    "    #starting_idx = new_starting_idx\n",
    "    \n",
    "    print(starting_idx,\"this is the starting idx\")\n",
    "    jumpable_idxs = []\n",
    "    min_jump_idx= starting_idx+ minJump\n",
    "    print(min_jump_idx,\"is min jumppable idx\")\n",
    "    max_jump_idx= min(starting_idx+maxJump, length_s-1)\n",
    "    print(max_jump_idx,\"is max jumppable idx\")\n",
    "    jumpable_idxs.append(min_jump_idx)\n",
    "    jumpable_idxs.append(max_jump_idx)\n",
    "    \n",
    "    for jumpped_idx in jumpable_idxs:\n",
    "        print(s[jumpped_idx],\"is the value of S at the jumpped idx\")  \n",
    "        if s[jumpped_idx]==\"0\":\n",
    "            print(jumpped_idx,\"this is the new jumpped idx\")\n",
    "            \n",
    "            starting_idx = jumpped_idx\n",
    "            if starting_idx == length_s-1:\n",
    "                print(\"True\")\n",
    "                return True\n",
    "            elif starting_idx == length_s:\n",
    "                print(\"False\")\n",
    "       "
   ]
  },
  {
   "cell_type": "code",
   "execution_count": 73,
   "metadata": {},
   "outputs": [
    {
     "data": {
      "text/plain": [
       "False"
      ]
     },
     "execution_count": 73,
     "metadata": {},
     "output_type": "execute_result"
    }
   ],
   "source": [
    "s = \"01101110\"\n",
    "S=\"011010\"\n",
    "minJump= 2\n",
    "maxJump=3\n",
    "def canReach( s: str, minJump: int, maxJump: int) -> bool:\n",
    "    length_s= len(s)\n",
    "\n",
    "    global starting_idx \n",
    "    starting_idx=0\n",
    "\n",
    "    queue = [0]  # BFS queue initialized with the starting index\n",
    "    visited = set()  # Track visited indices to avoid revisits\n",
    "   \n",
    "    if s[-1]== \"0\":\n",
    "        return False\n",
    "    while starting_idx< length_s-1:\n",
    "        #starting_idx = new_starting_idx\n",
    "        \n",
    "        # print(starting_idx,\"this is the starting idx\")\n",
    "        jumpable_idxs = []\n",
    "        min_jump_idx= starting_idx+ minJump\n",
    "        # print(min_jump_idx,\"is min jumppable idx\")\n",
    "        max_jump_idx= min(starting_idx+maxJump, length_s-1)\n",
    "        # print(max_jump_idx,\"is max jumppable idx\")\n",
    "        jumpable_idxs.append(min_jump_idx)\n",
    "        jumpable_idxs.append(max_jump_idx)\n",
    "        \n",
    "        for jumpped_idx in jumpable_idxs:\n",
    "            # print(s[jumpped_idx],\"is the value of S at the jumpped idx\")  \n",
    "            if s[jumpped_idx] == \"0\" and jumpped_idx not in visited:\n",
    "                if i == length_s - 1:  # If we reach the last index\n",
    "                    return True\n",
    "                queue.append(jumpped_idx)\n",
    "                visited.add(jumpped_idx)\n",
    "            # if s[jumpped_idx]==\"0\":\n",
    "\n",
    "            #     # print(jumpped_idx,\"this is the new jumpped idx\")\n",
    "                \n",
    "            #     starting_idx = jumpped_idx\n",
    "            #     if starting_idx == length_s-1:\n",
    "            #         # print(\"True\")\n",
    "            #         return True\n",
    "            #     else:\n",
    "            #         print(\"this is a mess\")\n",
    "            #         continue\n",
    "            else:\n",
    "                if jumpped_idx==length_s-1:\n",
    "                    return False\n",
    "                \n",
    "\n",
    "canReach(s,minJump=2,maxJump=3)    "
   ]
  },
  {
   "cell_type": "code",
   "execution_count": 76,
   "metadata": {},
   "outputs": [
    {
     "data": {
      "text/plain": [
       "False"
      ]
     },
     "execution_count": 76,
     "metadata": {},
     "output_type": "execute_result"
    }
   ],
   "source": [
    "s = \"01101110\"\n",
    "s=\"011010\"\n",
    "s=\"01101\"\n",
    "minJump= 1\n",
    "maxJump=2\n",
    "\n",
    "def canReach(s: str, minJump: int, maxJump: int) -> bool:\n",
    "    length_s = len(s)\n",
    "    if s[-1] != \"0\":  # If the last position is not reachable\n",
    "        return False\n",
    "\n",
    "    queue = [0]  # BFS queue initialized with the starting index\n",
    "    visited = set()  # Track visited indices to avoid revisits\n",
    "    farthest = 0  # The farthest index we've processed\n",
    "\n",
    "    while queue:\n",
    "        current_idx = queue.pop(0)\n",
    "\n",
    "        # Process the range of indices we can jump to\n",
    "        start = max(current_idx + minJump, farthest + 1)\n",
    "        end = min(current_idx + maxJump, length_s - 1)\n",
    "\n",
    "        for i in range(start, end + 1):\n",
    "            if s[i] == \"0\" and i not in visited:\n",
    "                if i == length_s - 1:  # If we reach the last index\n",
    "                    return True\n",
    "                queue.append(i)\n",
    "                visited.add(i)\n",
    "\n",
    "        # Update the farthest index processed\n",
    "        farthest = max(farthest, end)\n",
    "\n",
    "    return False\n",
    "\n",
    "canReach(s,minJump=1,maxJump=2)    "
   ]
  }
 ],
 "metadata": {
  "kernelspec": {
   "display_name": "Python 3",
   "language": "python",
   "name": "python3"
  },
  "language_info": {
   "codemirror_mode": {
    "name": "ipython",
    "version": 3
   },
   "file_extension": ".py",
   "mimetype": "text/x-python",
   "name": "python",
   "nbconvert_exporter": "python",
   "pygments_lexer": "ipython3",
   "version": "3.12.5"
  }
 },
 "nbformat": 4,
 "nbformat_minor": 2
}
