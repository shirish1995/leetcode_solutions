{
 "cells": [
  {
   "cell_type": "code",
   "execution_count": null,
   "metadata": {},
   "outputs": [],
   "source": [
    "# initializing list\n",
    "test_list = ['3', '5', '7', '9', '11']\n",
    " \n",
    "# printing original list\n",
    "print(\"The original list is : \" + str(test_list))\n",
    "x = len(test_list)\n",
    "test_list.remove('5')\n",
    "#test_list.insert(x-1, '5')\n",
    "print(\"this is the new list\")\n",
    "print (test_list)"
   ]
  },
  {
   "cell_type": "code",
   "execution_count": null,
   "metadata": {},
   "outputs": [],
   "source": [
    "nums = [0,0,1,1,1,2,2,3,3,4]\n",
    "print(nums[-(1+2)])"
   ]
  },
  {
   "cell_type": "code",
   "execution_count": 9,
   "metadata": {},
   "outputs": [
    {
     "name": "stdout",
     "output_type": "stream",
     "text": [
      "this is the length of the nums int array before removing the element\n",
      "10\n",
      "this is the length of the nums int array\n",
      "9\n",
      "this is the length of the nums int array before removing the element\n",
      "9\n",
      "this is the length of the nums int array\n",
      "8\n",
      "this is the length of the nums int array before removing the element\n",
      "8\n",
      "this is the length of the nums int array\n",
      "7\n",
      "this is the length of the nums int array before removing the element\n",
      "7\n",
      "this is the length of the nums int array\n",
      "6\n",
      "this is the length of the nums int array before removing the element\n",
      "6\n",
      "this is the length of the nums int array\n",
      "5\n",
      "[0, 1, 2, 3, 4]\n"
     ]
    }
   ],
   "source": [
    "\n",
    "nums = [0,0,1,1,1,2,2,3,3,4]\n",
    "i = 0\n",
    "#for i in range(len(nums)):\n",
    "while i+1 in range(len(nums)):\n",
    "    if nums[i] == nums[(i+1)]:\n",
    "        # using append() + pop() + index()\n",
    "        # moving element to end if element on the left/previous(from the end of the array) is the same as the element being iterated on \n",
    "        #nums.append(nums.pop(nums.index(len(nums)-1)))\n",
    "        # using remove function to remove an element from that location\n",
    "        print(\"this is the length of the nums int array before removing the element\")\n",
    "        print(len(nums))\n",
    "        nums.remove(nums[i])\n",
    "        print(\"this is the length of the nums int array\")\n",
    "        print(len(nums))\n",
    "        continue\n",
    "    else:\n",
    "        i+=1\n",
    "        continue\n",
    "print(nums)"
   ]
  }
 ],
 "metadata": {
  "kernelspec": {
   "display_name": "Python 3",
   "language": "python",
   "name": "python3"
  },
  "language_info": {
   "codemirror_mode": {
    "name": "ipython",
    "version": 3
   },
   "file_extension": ".py",
   "mimetype": "text/x-python",
   "name": "python",
   "nbconvert_exporter": "python",
   "pygments_lexer": "ipython3",
   "version": "3.12.5"
  }
 },
 "nbformat": 4,
 "nbformat_minor": 2
}
