{
 "cells": [
  {
   "cell_type": "code",
   "execution_count": null,
   "metadata": {},
   "outputs": [],
   "source": [
    "# initializing list\n",
    "test_list = ['3', '5', '7', '9', '11']\n",
    " \n",
    "# printing original list\n",
    "print(\"The original list is : \" + str(test_list))\n",
    "x = len(test_list)\n",
    "test_list.remove('5')\n",
    "#test_list.insert(x-1, '5')\n",
    "print(\"this is the new list\")\n",
    "print (test_list)"
   ]
  },
  {
   "cell_type": "code",
   "execution_count": null,
   "metadata": {},
   "outputs": [],
   "source": [
    "nums = [0,0,1,1,1,2,2,3,3,4]\n",
    "print(nums[-(1+2)])"
   ]
  },
  {
   "cell_type": "code",
   "execution_count": null,
   "metadata": {},
   "outputs": [],
   "source": [
    "\n",
    "nums = [0,0,1,1,1,2,2,3,3,4]\n",
    "i = 0\n",
    "#for i in range(len(nums)):\n",
    "while i+1 in range(len(nums)):\n",
    "    if nums[i] == nums[(i+1)]:\n",
    "        # using append() + pop() + index()\n",
    "        # moving element to end if element on the left/previous(from the end of the array) is the same as the element being iterated on \n",
    "        #nums.append(nums.pop(nums.index(len(nums)-1)))\n",
    "        # using remove function to remove an element from that location\n",
    "        print(\"this is the length of the nums int array before removing the element\")\n",
    "        print(len(nums))\n",
    "        nums.remove(nums[i])\n",
    "        print(\"this is the length of the nums int array\")\n",
    "        print(len(nums))\n",
    "        continue\n",
    "    else:\n",
    "        i+=1\n",
    "        continue\n",
    "print(nums)"
   ]
  },
  {
   "cell_type": "code",
   "execution_count": 1,
   "metadata": {},
   "outputs": [
    {
     "name": "stdout",
     "output_type": "stream",
     "text": [
      "Name        John\n",
      "Age           28\n",
      "City    New York\n",
      "Name: 0, dtype: object\n"
     ]
    }
   ],
   "source": [
    "import pandas as pd\n",
    "\n",
    "# Sample DataFrame\n",
    "data = {'Name': ['John', 'Jane', 'Tom'],\n",
    "        'Age': [28, 34, 29],\n",
    "        'City': ['New York', 'Paris', 'London']}\n",
    "df = pd.DataFrame(data)\n",
    "\n",
    "# Access the first row\n",
    "first_row = df.iloc[0]\n",
    "print(first_row)\n",
    "\n",
    "\n"
   ]
  },
  {
   "cell_type": "code",
   "execution_count": null,
   "metadata": {},
   "outputs": [],
   "source": [
    "# this is the mark down of the code used for comparing 2 documents\n",
    "# for plagiarism in a simple easy approach. it does not accopunt \n",
    "# for paraphrasing or for doule spaces\n",
    "\n",
    "from PyPDF2 import PdfReader\n",
    "\n",
    "# Load both PDFs\n",
    "resume_path = '/mnt/data/Raghunath_Shirish_Mysore_Resume.pdf'\n",
    "custcopy_path = '/mnt/data/CustCopy2.pdf'\n",
    "\n",
    "resume_reader = PdfReader(resume_path)\n",
    "custcopy_reader = PdfReader(custcopy_path)\n",
    "\n",
    "# Extract text from both PDFs\n",
    "resume_text = \"\"\n",
    "custcopy_text = \"\"\n",
    "\n",
    "for page in resume_reader.pages:\n",
    "    resume_text += page.extract_text()\n",
    "\n",
    "for page in custcopy_reader.pages:\n",
    "    custcopy_text += page.extract_text()\n",
    "\n",
    "# Split text into lines for comparison\n",
    "resume_lines = set(resume_text.splitlines())\n",
    "custcopy_lines = set(custcopy_text.splitlines())\n",
    "\n",
    "# Find common lines\n",
    "common_lines = resume_lines.intersection(custcopy_lines)\n",
    "\n",
    "# Output the number of common lines\n",
    "len(common_lines), common_lines\n"
   ]
  },
  {
   "cell_type": "code",
   "execution_count": null,
   "metadata": {},
   "outputs": [],
   "source": [
    "import re\n",
    "\n",
    "# Function to normalize text by removing extra spaces, punctuation, and making it lowercase\n",
    "def normalize_text(text):\n",
    "    text = text.lower()  # Convert to lowercase\n",
    "    text = re.sub(r'\\s+', ' ', text)  # Replace multiple spaces with a single space\n",
    "    text = re.sub(r'[^\\w\\s]', '', text)  # Remove punctuation\n",
    "    return text.strip()\n",
    "\n",
    "# Normalize text from both PDFs\n",
    "normalized_resume_text = normalize_text(resume_text)\n",
    "normalized_custcopy_text = normalize_text(custcopy_text)\n",
    "\n",
    "# Split normalized text into sentences/phrases for comparison\n",
    "resume_phrases = set(normalized_resume_text.split('.'))\n",
    "custcopy_phrases = set(normalized_custcopy_text.split('.'))\n",
    "\n",
    "# Find common phrases\n",
    "common_phrases = resume_phrases.intersection(custcopy_phrases)\n",
    "\n",
    "# Output the number of common phrases and some of the common phrases\n",
    "len(common_phrases), list(common_phrases)[:10]  # Show only the first 10 common phrases\n"
   ]
  }
 ],
 "metadata": {
  "kernelspec": {
   "display_name": "Python 3",
   "language": "python",
   "name": "python3"
  },
  "language_info": {
   "codemirror_mode": {
    "name": "ipython",
    "version": 3
   },
   "file_extension": ".py",
   "mimetype": "text/x-python",
   "name": "python",
   "nbconvert_exporter": "python",
   "pygments_lexer": "ipython3",
   "version": "3.12.5"
  }
 },
 "nbformat": 4,
 "nbformat_minor": 2
}
